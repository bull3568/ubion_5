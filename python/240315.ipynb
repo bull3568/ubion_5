{
 "cells": [
  {
   "cell_type": "code",
   "execution_count": 1,
   "metadata": {},
   "outputs": [],
   "source": [
    "a = 10"
   ]
  },
  {
   "cell_type": "markdown",
   "metadata": {},
   "source": [
    "# 제목1\n",
    "## 제목2\n",
    "### 제목3\n",
    "#### 제목4\n",
    "\n",
    "\n",
    "\n"
   ]
  },
  {
   "cell_type": "markdown",
   "metadata": {},
   "source": [
    "#### 비순서형 목록\n",
    "- 항목1\n",
    "- 항목2\n",
    "- 항목3\n",
    "    - 서브1\n",
    "    - 서브2\n",
    "    - 서브3\n",
    "\n",
    "### 순서형 목록\n",
    "1. 항목1\n",
    "3. 항목2\n",
    "5. 항목3\n",
    "    1. 서브1\n",
    "    2. 서브2\n",
    "    3. 서브3\n",
    "    "
   ]
  },
  {
   "cell_type": "code",
   "execution_count": 2,
   "metadata": {},
   "outputs": [],
   "source": [
    "# 변수를 생성\n",
    "a = 10\n",
    "b = 'test'"
   ]
  },
  {
   "cell_type": "code",
   "execution_count": 3,
   "metadata": {},
   "outputs": [
    {
     "name": "stdout",
     "output_type": "stream",
     "text": [
      "10\n",
      "<class 'int'>\n",
      "test\n",
      "<class 'str'>\n"
     ]
    }
   ],
   "source": [
    "print(a)\n",
    "print(type(a))\n",
    "print(b)\n",
    "print(type(b))"
   ]
  },
  {
   "cell_type": "code",
   "execution_count": 4,
   "metadata": {},
   "outputs": [
    {
     "name": "stdout",
     "output_type": "stream",
     "text": [
      "True\n",
      "<class 'bool'>\n",
      "3.14\n",
      "<class 'float'>\n"
     ]
    }
   ],
   "source": [
    "c = True\n",
    "d = 3.14\n",
    "print(c)\n",
    "print(type(c))\n",
    "print(d)\n",
    "print(type(d))"
   ]
  },
  {
   "cell_type": "code",
   "execution_count": 8,
   "metadata": {},
   "outputs": [
    {
     "name": "stdout",
     "output_type": "stream",
     "text": [
      "<class 'str'>\n",
      "<class 'int'>\n"
     ]
    }
   ],
   "source": [
    "# 데이터의 타입을 변경 (문자를 숫자로 변경)\n",
    "x = '1000'\n",
    "print(type(x))\n",
    "x = int(x)\n",
    "print(type(int(x)))"
   ]
  },
  {
   "cell_type": "code",
   "execution_count": 10,
   "metadata": {},
   "outputs": [
    {
     "name": "stdout",
     "output_type": "stream",
     "text": [
      "<class 'int'>\n",
      "<class 'str'>\n"
     ]
    }
   ],
   "source": [
    "# 숫자를 문자로 변경\n",
    "y = 100\n",
    "print(type(y))\n",
    "y = str(y)\n",
    "print(type(y))"
   ]
  },
  {
   "cell_type": "code",
   "execution_count": 13,
   "metadata": {},
   "outputs": [
    {
     "name": "stdout",
     "output_type": "stream",
     "text": [
      "test\n",
      "True\n"
     ]
    }
   ],
   "source": [
    "a = 'test'\n",
    "print(a)\n",
    "a = bool(a)\n",
    "print(bool(a))"
   ]
  },
  {
   "cell_type": "code",
   "execution_count": 14,
   "metadata": {},
   "outputs": [
    {
     "data": {
      "text/plain": [
       "False"
      ]
     },
     "execution_count": 14,
     "metadata": {},
     "output_type": "execute_result"
    }
   ],
   "source": [
    "bool(\"\")\n",
    "# bool이 \"\"나 0인경우 또는 int 0, list [], dict {}, tuple ()일 경우에 FALSE "
   ]
  },
  {
   "cell_type": "code",
   "execution_count": 15,
   "metadata": {},
   "outputs": [
    {
     "data": {
      "text/plain": [
       "True"
      ]
     },
     "execution_count": 15,
     "metadata": {},
     "output_type": "execute_result"
    }
   ],
   "source": [
    "bool(\" \")"
   ]
  },
  {
   "cell_type": "code",
   "execution_count": 18,
   "metadata": {},
   "outputs": [
    {
     "data": {
      "text/plain": [
       "False"
      ]
     },
     "execution_count": 18,
     "metadata": {},
     "output_type": "execute_result"
    }
   ],
   "source": [
    "bool(0)"
   ]
  },
  {
   "cell_type": "code",
   "execution_count": 24,
   "metadata": {},
   "outputs": [],
   "source": [
    "# 연산자\n",
    "a = 10\n",
    "b = 3"
   ]
  },
  {
   "cell_type": "code",
   "execution_count": 26,
   "metadata": {},
   "outputs": [
    {
     "data": {
      "text/plain": [
       "13"
      ]
     },
     "execution_count": 26,
     "metadata": {},
     "output_type": "execute_result"
    }
   ],
   "source": [
    "a + b"
   ]
  },
  {
   "cell_type": "code",
   "execution_count": 21,
   "metadata": {},
   "outputs": [],
   "source": [
    "# a = a + b\n",
    "a += b"
   ]
  },
  {
   "cell_type": "code",
   "execution_count": 25,
   "metadata": {},
   "outputs": [
    {
     "name": "stdout",
     "output_type": "stream",
     "text": [
      "10\n"
     ]
    }
   ],
   "source": [
    "print(a)"
   ]
  },
  {
   "cell_type": "code",
   "execution_count": 31,
   "metadata": {},
   "outputs": [
    {
     "name": "stdout",
     "output_type": "stream",
     "text": [
      "a가 10보다 작다\n"
     ]
    }
   ],
   "source": [
    "# 조건문 (if문)\n",
    "a = 5\n",
    "\n",
    "if a < 10 :\n",
    "    print('a가 10보다 작다')"
   ]
  },
  {
   "cell_type": "code",
   "execution_count": 32,
   "metadata": {},
   "outputs": [
    {
     "name": "stdout",
     "output_type": "stream",
     "text": [
      "a는 10보다 크거나 같다.\n"
     ]
    }
   ],
   "source": [
    "a = 11\n",
    "\n",
    "if a < 10 : \n",
    "    print('a는 10보다 작다.')\n",
    "else : \n",
    "    print('a는 10보다 크거나 같다.')"
   ]
  },
  {
   "cell_type": "code",
   "execution_count": 35,
   "metadata": {},
   "outputs": [
    {
     "name": "stdout",
     "output_type": "stream",
     "text": [
      "x에는 데이터가 존재하지 않는다.\n"
     ]
    }
   ],
   "source": [
    "x = \"\"\n",
    "\n",
    "# if 뒤의 조건식에 조건식이 아닌 변수가 들어온다면\n",
    "# 해당하는 변수를 강제로 bool형태로 변환하여 비교\n",
    "if x :\n",
    "    print('x에는 데이터가 존재')\n",
    "else :\n",
    "    print('x에는 데이터가 존재하지 않는다.')"
   ]
  },
  {
   "cell_type": "code",
   "execution_count": 38,
   "metadata": {},
   "outputs": [
    {
     "name": "stdout",
     "output_type": "stream",
     "text": [
      "C\n",
      "프로그램 종료\n"
     ]
    }
   ],
   "source": [
    "# 조건식이 여러개인 경우\n",
    "# int() : 데이터를 숫자로 변환\n",
    "# input() : 입력한 데이터를 받는다. 받은 데이터의 타입이 str 숫자로 받아도 문자로 인식, 따라서 비교 연산자 사용하기 위해 int사용\n",
    "score = int(input(\"점수를 입력하시오 : \"))\n",
    "# print(score)\n",
    "\n",
    "if score >= 90 :\n",
    "    print('A')\n",
    "elif score >= 80:\n",
    "    print('B')\n",
    "elif score >= 70:\n",
    "    print('C')\n",
    "elif score >= 60:\n",
    "    print('D')\n",
    "else :\n",
    "    print('F')\n",
    "\n",
    "print('프로그램 종료')"
   ]
  },
  {
   "cell_type": "markdown",
   "metadata": {},
   "source": [
    "#### 반복문\n",
    "- for문\n",
    "    - for i in range(시작값, 종료값, 증가값)\n",
    "    - for i in 자료형데이터(튜플, 리스트)\n",
    "    - 자료형 데이터의 원소의 개수만큼 반복 실행\n",
    "- while문\n",
    "    - while 뒤의 조건식이 거짓이 될 때까지 반복 실행\n",
    "    - 일반적으로 초기값을 변수에 대입, 반복실행 시 초기값을 증가 시키는 형태로 작성\n",
    "    - 유의 사항 : 무한 반복을 하지 않도록(조건식이 거짓이 되는 부분) 조심\n",
    "- break\n",
    "    - 반복문을 강제로 종료\n",
    "- continue\n",
    "    - 반복문으로 되돌아가는 기능"
   ]
  },
  {
   "cell_type": "code",
   "execution_count": 40,
   "metadata": {},
   "outputs": [
    {
     "name": "stdout",
     "output_type": "stream",
     "text": [
      "range(1, 10)\n",
      "[1, 2, 3, 4, 5, 6, 7, 8, 9]\n"
     ]
    }
   ],
   "source": [
    "print(range(1, 10, 1))\n",
    "print(list(range(1, 10, 1)))"
   ]
  },
  {
   "cell_type": "code",
   "execution_count": 41,
   "metadata": {},
   "outputs": [
    {
     "name": "stdout",
     "output_type": "stream",
     "text": [
      "1\n",
      "2\n",
      "3\n",
      "4\n",
      "5\n",
      "6\n",
      "7\n",
      "8\n",
      "9\n"
     ]
    }
   ],
   "source": [
    "# 기본적인 for문의 형태\n",
    "for i in range(1, 10, 1) :\n",
    "    print(i)"
   ]
  },
  {
   "cell_type": "code",
   "execution_count": 42,
   "metadata": {},
   "outputs": [
    {
     "name": "stdout",
     "output_type": "stream",
     "text": [
      "3\n"
     ]
    }
   ],
   "source": [
    "# 리스트 생성\n",
    "_list = [100, 'test', True]\n",
    "\n",
    "# 리스트의 길이를 출력\n",
    "print(len(_list))"
   ]
  },
  {
   "cell_type": "code",
   "execution_count": 43,
   "metadata": {},
   "outputs": [
    {
     "name": "stdout",
     "output_type": "stream",
     "text": [
      "100\n",
      "test\n",
      "True\n"
     ]
    }
   ],
   "source": [
    "# for i in range(0, 3, 1) :\n",
    "for i in range(0, len(_list),1) :\n",
    "    # i에 들어오는 데이터들은? 0, 1, 2\n",
    "    print(_list[i])"
   ]
  },
  {
   "cell_type": "code",
   "execution_count": 44,
   "metadata": {},
   "outputs": [
    {
     "name": "stdout",
     "output_type": "stream",
     "text": [
      "100\n",
      "test\n",
      "True\n"
     ]
    }
   ],
   "source": [
    "for i in _list:\n",
    "    # i에 들어오는 데이터들은? 100, 'test', True\n",
    "    print(i)"
   ]
  },
  {
   "cell_type": "code",
   "execution_count": 47,
   "metadata": {},
   "outputs": [
    {
     "name": "stdout",
     "output_type": "stream",
     "text": [
      "1\n",
      "2\n",
      "3\n",
      "4\n",
      "5\n",
      "6\n",
      "7\n",
      "8\n",
      "9\n"
     ]
    }
   ],
   "source": [
    "# while문 \n",
    "# option키 누르고 다른 글자 여러개 클릭해서 수정 가능\n",
    "# 초기값을 지정\n",
    "j = 1\n",
    "while j < 10: \n",
    "    print(j)\n",
    "    # j를 1씩 증가\n",
    "    # j = j + 1\n",
    "    j += 1"
   ]
  },
  {
   "cell_type": "code",
   "execution_count": 48,
   "metadata": {},
   "outputs": [
    {
     "name": "stdout",
     "output_type": "stream",
     "text": [
      "55\n"
     ]
    }
   ],
   "source": [
    "# 1부터 10까지의 합계\n",
    "\n",
    "# 초기의 합계라는 변수를 생성해서 0을 대압\n",
    "# for문\n",
    "result = 0\n",
    "\n",
    "for i in range(1, 11, 1):\n",
    "    result += i\n",
    "    # result = result + i\n",
    "print(result)"
   ]
  },
  {
   "cell_type": "code",
   "execution_count": 2,
   "metadata": {},
   "outputs": [
    {
     "name": "stdout",
     "output_type": "stream",
     "text": [
      "1\n",
      "3\n",
      "6\n",
      "10\n",
      "15\n",
      "21\n",
      "28\n",
      "36\n",
      "45\n",
      "55\n"
     ]
    }
   ],
   "source": [
    "# while문 예시\n",
    "result = 0\n",
    "i = 1\n",
    "while i <= 10:\n",
    "    # result = result + i\n",
    "    result += i\n",
    "    # i = i + 1\n",
    "    i += 1\n",
    " print(result) # 들여쓰기에 따라 출력물이 다르다. 들여쓰기x -> 마지막값만 출력, 들여쓰기o -> 더하는 과정 다 출력"
   ]
  },
  {
   "cell_type": "code",
   "execution_count": 54,
   "metadata": {},
   "outputs": [
    {
     "name": "stdout",
     "output_type": "stream",
     "text": [
      "2 x 1 = 2\n",
      "2 x 2 = 4\n",
      "2 x 3 = 6\n",
      "2 x 4 = 8\n",
      "2 x 5 = 10\n",
      "2 x 6 = 12\n",
      "2 x 7 = 14\n",
      "2 x 8 = 16\n",
      "2 x 9 = 18\n",
      "3 x 1 = 3\n",
      "3 x 2 = 6\n",
      "3 x 3 = 9\n",
      "3 x 4 = 12\n",
      "3 x 5 = 15\n",
      "3 x 6 = 18\n",
      "3 x 7 = 21\n",
      "3 x 8 = 24\n",
      "3 x 9 = 27\n",
      "4 x 1 = 4\n",
      "4 x 2 = 8\n",
      "4 x 3 = 12\n",
      "4 x 4 = 16\n",
      "4 x 5 = 20\n",
      "4 x 6 = 24\n",
      "4 x 7 = 28\n",
      "4 x 8 = 32\n",
      "4 x 9 = 36\n",
      "5 x 1 = 5\n",
      "5 x 2 = 10\n",
      "5 x 3 = 15\n",
      "5 x 4 = 20\n",
      "5 x 5 = 25\n",
      "5 x 6 = 30\n",
      "5 x 7 = 35\n",
      "5 x 8 = 40\n",
      "5 x 9 = 45\n",
      "6 x 1 = 6\n",
      "6 x 2 = 12\n",
      "6 x 3 = 18\n",
      "6 x 4 = 24\n",
      "6 x 5 = 30\n",
      "6 x 6 = 36\n",
      "6 x 7 = 42\n",
      "6 x 8 = 48\n",
      "6 x 9 = 54\n",
      "7 x 1 = 7\n",
      "7 x 2 = 14\n",
      "7 x 3 = 21\n",
      "7 x 4 = 28\n",
      "7 x 5 = 35\n",
      "7 x 6 = 42\n",
      "7 x 7 = 49\n",
      "7 x 8 = 56\n",
      "7 x 9 = 63\n",
      "8 x 1 = 8\n",
      "8 x 2 = 16\n",
      "8 x 3 = 24\n",
      "8 x 4 = 32\n",
      "8 x 5 = 40\n",
      "8 x 6 = 48\n",
      "8 x 7 = 56\n",
      "8 x 8 = 64\n",
      "8 x 9 = 72\n",
      "9 x 1 = 9\n",
      "9 x 2 = 18\n",
      "9 x 3 = 27\n",
      "9 x 4 = 36\n",
      "9 x 5 = 45\n",
      "9 x 6 = 54\n",
      "9 x 7 = 63\n",
      "9 x 8 = 72\n",
      "9 x 9 = 81\n"
     ]
    }
   ],
   "source": [
    "## 다중 반복문\n",
    "## 구구단 생성\n",
    "for i in range(2, 10, 1):\n",
    "    for j in range(1, 10, 1):\n",
    "        # print(\"%d X %d = %d\" %(i, j, i*j)\n",
    "        # f-string 이용\n",
    "        print(f\"{i} x {j} = {i*j}\")"
   ]
  },
  {
   "cell_type": "markdown",
   "metadata": {},
   "source": [
    "### 반복문 예제 문제 (다중 for문)\n",
    "- 페르마의 마지막 정리가 참인가 확인\n",
    "\n",
    "- n = 3이라 가정을 하고 a, b, c에 1부터 10까지의 값들을 모두 넣어서\n",
    "해당하는 조건식이 참인 경우가 존재하는지 확인"
   ]
  },
  {
   "cell_type": "code",
   "execution_count": 75,
   "metadata": {},
   "outputs": [
    {
     "name": "stdout",
     "output_type": "stream",
     "text": [
      "프로그램 종료\n",
      "1000\n"
     ]
    }
   ],
   "source": [
    "cnt = 0\n",
    "n = 3\n",
    "end = 10\n",
    "# a가 1부터 10까지 반복\n",
    "for a in range(1, end+1, 1): # 10번 반복\n",
    "    # b가 1부터 10까지 반복\n",
    "    for b in range(1, end+1, 1): # 10번 반복\n",
    "        # c가 1부터 10까지 반복 \n",
    "        for c in range(1, end+1, 1): #  10번 반복\n",
    "            # 10 * 10 * 10 번 반복\n",
    "            # 마지막 정리 공식이 참인가>\n",
    "            if a ** n + b ** n == c ** n:\n",
    "                # 참이라면 해당하는 a,b,c 출력\n",
    "                print(a, b, c)\n",
    "            cnt += 1\n",
    "# '프로그램 종료' 출력\n",
    "print('프로그램 종료') \n",
    "print(cnt)      "
   ]
  },
  {
   "cell_type": "code",
   "execution_count": null,
   "metadata": {},
   "outputs": [],
   "source": [
    "123434"
   ]
  }
 ],
 "metadata": {
  "kernelspec": {
   "display_name": "Python 3",
   "language": "python",
   "name": "python3"
  },
  "language_info": {
   "codemirror_mode": {
    "name": "ipython",
    "version": 3
   },
   "file_extension": ".py",
   "mimetype": "text/x-python",
   "name": "python",
   "nbconvert_exporter": "python",
   "pygments_lexer": "ipython3",
   "version": "3.9.6"
  }
 },
 "nbformat": 4,
 "nbformat_minor": 2
}
